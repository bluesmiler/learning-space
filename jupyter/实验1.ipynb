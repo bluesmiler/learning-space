{
 "cells": [
  {
   "cell_type": "code",
   "execution_count": 25,
   "id": "39417944",
   "metadata": {},
   "outputs": [
    {
     "ename": "UnicodeDecodeError",
     "evalue": "'utf-16-le' codec can't decode bytes in position 890-891: illegal UTF-16 surrogate",
     "output_type": "error",
     "traceback": [
      "\u001b[1;31m---------------------------------------------------------------------------\u001b[0m",
      "\u001b[1;31mUnicodeDecodeError\u001b[0m                        Traceback (most recent call last)",
      "Cell \u001b[1;32mIn[25], line 4\u001b[0m\n\u001b[0;32m      2\u001b[0m \u001b[38;5;28;01mimport\u001b[39;00m \u001b[38;5;21;01mwarnings\u001b[39;00m\n\u001b[0;32m      3\u001b[0m warnings\u001b[38;5;241m.\u001b[39mfilterwarnings(\u001b[38;5;124m'\u001b[39m\u001b[38;5;124mignore\u001b[39m\u001b[38;5;124m'\u001b[39m)\n\u001b[1;32m----> 4\u001b[0m data1\u001b[38;5;241m=\u001b[39m\u001b[43mpd\u001b[49m\u001b[38;5;241;43m.\u001b[39;49m\u001b[43mread_csv\u001b[49m\u001b[43m(\u001b[49m\u001b[38;5;124;43m'\u001b[39;49m\u001b[38;5;124;43m./数据1.csv\u001b[39;49m\u001b[38;5;124;43m'\u001b[39;49m\u001b[43m,\u001b[49m\u001b[43mencoding\u001b[49m\u001b[38;5;241;43m=\u001b[39;49m\u001b[38;5;124;43m'\u001b[39;49m\u001b[38;5;124;43mutf-16\u001b[39;49m\u001b[38;5;124;43m'\u001b[39;49m\u001b[43m,\u001b[49m\u001b[43mheader\u001b[49m\u001b[38;5;241;43m=\u001b[39;49m\u001b[38;5;124;43m'\u001b[39;49m\u001b[38;5;124;43minfer\u001b[39;49m\u001b[38;5;124;43m'\u001b[39;49m\u001b[43m)\u001b[49m\n\u001b[0;32m      5\u001b[0m data2\u001b[38;5;241m=\u001b[39mpd\u001b[38;5;241m.\u001b[39mread_csv(\u001b[38;5;124m'\u001b[39m\u001b[38;5;124m./数据2.csv\u001b[39m\u001b[38;5;124m'\u001b[39m,encoding\u001b[38;5;241m=\u001b[39m\u001b[38;5;124m'\u001b[39m\u001b[38;5;124mutf-16\u001b[39m\u001b[38;5;124m'\u001b[39m,header\u001b[38;5;241m=\u001b[39m\u001b[38;5;124m'\u001b[39m\u001b[38;5;124minfer\u001b[39m\u001b[38;5;124m'\u001b[39m)\n\u001b[0;32m      6\u001b[0m \u001b[38;5;28mprint\u001b[39m(data1)\n",
      "File \u001b[1;32mc:\\plugins\\python\\python3.8.5\\lib\\site-packages\\pandas\\util\\_decorators.py:211\u001b[0m, in \u001b[0;36mdeprecate_kwarg.<locals>._deprecate_kwarg.<locals>.wrapper\u001b[1;34m(*args, **kwargs)\u001b[0m\n\u001b[0;32m    209\u001b[0m     \u001b[38;5;28;01melse\u001b[39;00m:\n\u001b[0;32m    210\u001b[0m         kwargs[new_arg_name] \u001b[38;5;241m=\u001b[39m new_arg_value\n\u001b[1;32m--> 211\u001b[0m \u001b[38;5;28;01mreturn\u001b[39;00m \u001b[43mfunc\u001b[49m\u001b[43m(\u001b[49m\u001b[38;5;241;43m*\u001b[39;49m\u001b[43margs\u001b[49m\u001b[43m,\u001b[49m\u001b[43m \u001b[49m\u001b[38;5;241;43m*\u001b[39;49m\u001b[38;5;241;43m*\u001b[39;49m\u001b[43mkwargs\u001b[49m\u001b[43m)\u001b[49m\n",
      "File \u001b[1;32mc:\\plugins\\python\\python3.8.5\\lib\\site-packages\\pandas\\util\\_decorators.py:317\u001b[0m, in \u001b[0;36mdeprecate_nonkeyword_arguments.<locals>.decorate.<locals>.wrapper\u001b[1;34m(*args, **kwargs)\u001b[0m\n\u001b[0;32m    311\u001b[0m \u001b[38;5;28;01mif\u001b[39;00m \u001b[38;5;28mlen\u001b[39m(args) \u001b[38;5;241m>\u001b[39m num_allow_args:\n\u001b[0;32m    312\u001b[0m     warnings\u001b[38;5;241m.\u001b[39mwarn(\n\u001b[0;32m    313\u001b[0m         msg\u001b[38;5;241m.\u001b[39mformat(arguments\u001b[38;5;241m=\u001b[39marguments),\n\u001b[0;32m    314\u001b[0m         \u001b[38;5;167;01mFutureWarning\u001b[39;00m,\n\u001b[0;32m    315\u001b[0m         stacklevel\u001b[38;5;241m=\u001b[39mfind_stack_level(inspect\u001b[38;5;241m.\u001b[39mcurrentframe()),\n\u001b[0;32m    316\u001b[0m     )\n\u001b[1;32m--> 317\u001b[0m \u001b[38;5;28;01mreturn\u001b[39;00m \u001b[43mfunc\u001b[49m\u001b[43m(\u001b[49m\u001b[38;5;241;43m*\u001b[39;49m\u001b[43margs\u001b[49m\u001b[43m,\u001b[49m\u001b[43m \u001b[49m\u001b[38;5;241;43m*\u001b[39;49m\u001b[38;5;241;43m*\u001b[39;49m\u001b[43mkwargs\u001b[49m\u001b[43m)\u001b[49m\n",
      "File \u001b[1;32mc:\\plugins\\python\\python3.8.5\\lib\\site-packages\\pandas\\io\\parsers\\readers.py:950\u001b[0m, in \u001b[0;36mread_csv\u001b[1;34m(filepath_or_buffer, sep, delimiter, header, names, index_col, usecols, squeeze, prefix, mangle_dupe_cols, dtype, engine, converters, true_values, false_values, skipinitialspace, skiprows, skipfooter, nrows, na_values, keep_default_na, na_filter, verbose, skip_blank_lines, parse_dates, infer_datetime_format, keep_date_col, date_parser, dayfirst, cache_dates, iterator, chunksize, compression, thousands, decimal, lineterminator, quotechar, quoting, doublequote, escapechar, comment, encoding, encoding_errors, dialect, error_bad_lines, warn_bad_lines, on_bad_lines, delim_whitespace, low_memory, memory_map, float_precision, storage_options)\u001b[0m\n\u001b[0;32m    935\u001b[0m kwds_defaults \u001b[38;5;241m=\u001b[39m _refine_defaults_read(\n\u001b[0;32m    936\u001b[0m     dialect,\n\u001b[0;32m    937\u001b[0m     delimiter,\n\u001b[1;32m   (...)\u001b[0m\n\u001b[0;32m    946\u001b[0m     defaults\u001b[38;5;241m=\u001b[39m{\u001b[38;5;124m\"\u001b[39m\u001b[38;5;124mdelimiter\u001b[39m\u001b[38;5;124m\"\u001b[39m: \u001b[38;5;124m\"\u001b[39m\u001b[38;5;124m,\u001b[39m\u001b[38;5;124m\"\u001b[39m},\n\u001b[0;32m    947\u001b[0m )\n\u001b[0;32m    948\u001b[0m kwds\u001b[38;5;241m.\u001b[39mupdate(kwds_defaults)\n\u001b[1;32m--> 950\u001b[0m \u001b[38;5;28;01mreturn\u001b[39;00m \u001b[43m_read\u001b[49m\u001b[43m(\u001b[49m\u001b[43mfilepath_or_buffer\u001b[49m\u001b[43m,\u001b[49m\u001b[43m \u001b[49m\u001b[43mkwds\u001b[49m\u001b[43m)\u001b[49m\n",
      "File \u001b[1;32mc:\\plugins\\python\\python3.8.5\\lib\\site-packages\\pandas\\io\\parsers\\readers.py:605\u001b[0m, in \u001b[0;36m_read\u001b[1;34m(filepath_or_buffer, kwds)\u001b[0m\n\u001b[0;32m    602\u001b[0m _validate_names(kwds\u001b[38;5;241m.\u001b[39mget(\u001b[38;5;124m\"\u001b[39m\u001b[38;5;124mnames\u001b[39m\u001b[38;5;124m\"\u001b[39m, \u001b[38;5;28;01mNone\u001b[39;00m))\n\u001b[0;32m    604\u001b[0m \u001b[38;5;66;03m# Create the parser.\u001b[39;00m\n\u001b[1;32m--> 605\u001b[0m parser \u001b[38;5;241m=\u001b[39m \u001b[43mTextFileReader\u001b[49m\u001b[43m(\u001b[49m\u001b[43mfilepath_or_buffer\u001b[49m\u001b[43m,\u001b[49m\u001b[43m \u001b[49m\u001b[38;5;241;43m*\u001b[39;49m\u001b[38;5;241;43m*\u001b[39;49m\u001b[43mkwds\u001b[49m\u001b[43m)\u001b[49m\n\u001b[0;32m    607\u001b[0m \u001b[38;5;28;01mif\u001b[39;00m chunksize \u001b[38;5;129;01mor\u001b[39;00m iterator:\n\u001b[0;32m    608\u001b[0m     \u001b[38;5;28;01mreturn\u001b[39;00m parser\n",
      "File \u001b[1;32mc:\\plugins\\python\\python3.8.5\\lib\\site-packages\\pandas\\io\\parsers\\readers.py:1442\u001b[0m, in \u001b[0;36mTextFileReader.__init__\u001b[1;34m(self, f, engine, **kwds)\u001b[0m\n\u001b[0;32m   1439\u001b[0m     \u001b[38;5;28mself\u001b[39m\u001b[38;5;241m.\u001b[39moptions[\u001b[38;5;124m\"\u001b[39m\u001b[38;5;124mhas_index_names\u001b[39m\u001b[38;5;124m\"\u001b[39m] \u001b[38;5;241m=\u001b[39m kwds[\u001b[38;5;124m\"\u001b[39m\u001b[38;5;124mhas_index_names\u001b[39m\u001b[38;5;124m\"\u001b[39m]\n\u001b[0;32m   1441\u001b[0m \u001b[38;5;28mself\u001b[39m\u001b[38;5;241m.\u001b[39mhandles: IOHandles \u001b[38;5;241m|\u001b[39m \u001b[38;5;28;01mNone\u001b[39;00m \u001b[38;5;241m=\u001b[39m \u001b[38;5;28;01mNone\u001b[39;00m\n\u001b[1;32m-> 1442\u001b[0m \u001b[38;5;28mself\u001b[39m\u001b[38;5;241m.\u001b[39m_engine \u001b[38;5;241m=\u001b[39m \u001b[38;5;28;43mself\u001b[39;49m\u001b[38;5;241;43m.\u001b[39;49m\u001b[43m_make_engine\u001b[49m\u001b[43m(\u001b[49m\u001b[43mf\u001b[49m\u001b[43m,\u001b[49m\u001b[43m \u001b[49m\u001b[38;5;28;43mself\u001b[39;49m\u001b[38;5;241;43m.\u001b[39;49m\u001b[43mengine\u001b[49m\u001b[43m)\u001b[49m\n",
      "File \u001b[1;32mc:\\plugins\\python\\python3.8.5\\lib\\site-packages\\pandas\\io\\parsers\\readers.py:1747\u001b[0m, in \u001b[0;36mTextFileReader._make_engine\u001b[1;34m(self, f, engine)\u001b[0m\n\u001b[0;32m   1744\u001b[0m     \u001b[38;5;28;01mraise\u001b[39;00m \u001b[38;5;167;01mValueError\u001b[39;00m(msg)\n\u001b[0;32m   1746\u001b[0m \u001b[38;5;28;01mtry\u001b[39;00m:\n\u001b[1;32m-> 1747\u001b[0m     \u001b[38;5;28;01mreturn\u001b[39;00m \u001b[43mmapping\u001b[49m\u001b[43m[\u001b[49m\u001b[43mengine\u001b[49m\u001b[43m]\u001b[49m\u001b[43m(\u001b[49m\u001b[43mf\u001b[49m\u001b[43m,\u001b[49m\u001b[43m \u001b[49m\u001b[38;5;241;43m*\u001b[39;49m\u001b[38;5;241;43m*\u001b[39;49m\u001b[38;5;28;43mself\u001b[39;49m\u001b[38;5;241;43m.\u001b[39;49m\u001b[43moptions\u001b[49m\u001b[43m)\u001b[49m\n\u001b[0;32m   1748\u001b[0m \u001b[38;5;28;01mexcept\u001b[39;00m \u001b[38;5;167;01mException\u001b[39;00m:\n\u001b[0;32m   1749\u001b[0m     \u001b[38;5;28;01mif\u001b[39;00m \u001b[38;5;28mself\u001b[39m\u001b[38;5;241m.\u001b[39mhandles \u001b[38;5;129;01mis\u001b[39;00m \u001b[38;5;129;01mnot\u001b[39;00m \u001b[38;5;28;01mNone\u001b[39;00m:\n",
      "File \u001b[1;32mc:\\plugins\\python\\python3.8.5\\lib\\site-packages\\pandas\\io\\parsers\\c_parser_wrapper.py:92\u001b[0m, in \u001b[0;36mCParserWrapper.__init__\u001b[1;34m(self, src, **kwds)\u001b[0m\n\u001b[0;32m     89\u001b[0m     kwds\u001b[38;5;241m.\u001b[39mpop(key, \u001b[38;5;28;01mNone\u001b[39;00m)\n\u001b[0;32m     91\u001b[0m kwds[\u001b[38;5;124m\"\u001b[39m\u001b[38;5;124mdtype\u001b[39m\u001b[38;5;124m\"\u001b[39m] \u001b[38;5;241m=\u001b[39m ensure_dtype_objs(kwds\u001b[38;5;241m.\u001b[39mget(\u001b[38;5;124m\"\u001b[39m\u001b[38;5;124mdtype\u001b[39m\u001b[38;5;124m\"\u001b[39m, \u001b[38;5;28;01mNone\u001b[39;00m))\n\u001b[1;32m---> 92\u001b[0m \u001b[38;5;28mself\u001b[39m\u001b[38;5;241m.\u001b[39m_reader \u001b[38;5;241m=\u001b[39m \u001b[43mparsers\u001b[49m\u001b[38;5;241;43m.\u001b[39;49m\u001b[43mTextReader\u001b[49m\u001b[43m(\u001b[49m\u001b[43msrc\u001b[49m\u001b[43m,\u001b[49m\u001b[43m \u001b[49m\u001b[38;5;241;43m*\u001b[39;49m\u001b[38;5;241;43m*\u001b[39;49m\u001b[43mkwds\u001b[49m\u001b[43m)\u001b[49m\n\u001b[0;32m     94\u001b[0m \u001b[38;5;28mself\u001b[39m\u001b[38;5;241m.\u001b[39munnamed_cols \u001b[38;5;241m=\u001b[39m \u001b[38;5;28mself\u001b[39m\u001b[38;5;241m.\u001b[39m_reader\u001b[38;5;241m.\u001b[39munnamed_cols\n\u001b[0;32m     96\u001b[0m \u001b[38;5;66;03m# error: Cannot determine type of 'names'\u001b[39;00m\n",
      "File \u001b[1;32mc:\\plugins\\python\\python3.8.5\\lib\\site-packages\\pandas\\_libs\\parsers.pyx:547\u001b[0m, in \u001b[0;36mpandas._libs.parsers.TextReader.__cinit__\u001b[1;34m()\u001b[0m\n",
      "File \u001b[1;32mc:\\plugins\\python\\python3.8.5\\lib\\site-packages\\pandas\\_libs\\parsers.pyx:636\u001b[0m, in \u001b[0;36mpandas._libs.parsers.TextReader._get_header\u001b[1;34m()\u001b[0m\n",
      "File \u001b[1;32mc:\\plugins\\python\\python3.8.5\\lib\\site-packages\\pandas\\_libs\\parsers.pyx:852\u001b[0m, in \u001b[0;36mpandas._libs.parsers.TextReader._tokenize_rows\u001b[1;34m()\u001b[0m\n",
      "File \u001b[1;32mc:\\plugins\\python\\python3.8.5\\lib\\site-packages\\pandas\\_libs\\parsers.pyx:1965\u001b[0m, in \u001b[0;36mpandas._libs.parsers.raise_parser_error\u001b[1;34m()\u001b[0m\n",
      "\u001b[1;31mUnicodeDecodeError\u001b[0m: 'utf-16-le' codec can't decode bytes in position 890-891: illegal UTF-16 surrogate"
     ]
    }
   ],
   "source": [
    "import pandas as pd\n",
    "import warnings\n",
    "warnings.filterwarnings('ignore')\n",
    "data1=pd.read_csv('./数据1.csv',encoding='gbk',header='infer')\n",
    "data2=pd.read_csv('./数据2.csv',encoding='gbk',header='infer')\n",
    "print(data1)\n",
    "print(data2)"
   ]
  },
  {
   "cell_type": "code",
   "execution_count": 23,
   "id": "d4b5f86f",
   "metadata": {},
   "outputs": [
    {
     "ename": "NameError",
     "evalue": "name 'data1' is not defined",
     "output_type": "error",
     "traceback": [
      "\u001b[1;31m---------------------------------------------------------------------------\u001b[0m",
      "\u001b[1;31mNameError\u001b[0m                                 Traceback (most recent call last)",
      "Cell \u001b[1;32mIn[23], line 1\u001b[0m\n\u001b[1;32m----> 1\u001b[0m data\u001b[38;5;241m=\u001b[39mpd\u001b[38;5;241m.\u001b[39mmerge(\u001b[43mdata1\u001b[49m,data2,on\u001b[38;5;241m=\u001b[39m\u001b[38;5;124m'\u001b[39m\u001b[38;5;124m商品\u001b[39m\u001b[38;5;124m'\u001b[39m)\n\u001b[0;32m      2\u001b[0m \u001b[38;5;28mprint\u001b[39m(data)\n",
      "\u001b[1;31mNameError\u001b[0m: name 'data1' is not defined"
     ]
    }
   ],
   "source": [
    "data=pd.merge(data1,data2,on='商品')\n",
    "print(data)"
   ]
  },
  {
   "cell_type": "code",
   "execution_count": 24,
   "id": "7364f706",
   "metadata": {},
   "outputs": [
    {
     "ename": "NameError",
     "evalue": "name 'data' is not defined",
     "output_type": "error",
     "traceback": [
      "\u001b[1;31m---------------------------------------------------------------------------\u001b[0m",
      "\u001b[1;31mNameError\u001b[0m                                 Traceback (most recent call last)",
      "Cell \u001b[1;32mIn[24], line 1\u001b[0m\n\u001b[1;32m----> 1\u001b[0m \u001b[43mdata\u001b[49m\u001b[38;5;241m.\u001b[39mT\n",
      "\u001b[1;31mNameError\u001b[0m: name 'data' is not defined"
     ]
    }
   ],
   "source": [
    "data.T"
   ]
  },
  {
   "cell_type": "code",
   "execution_count": 7,
   "id": "f2a88bd6",
   "metadata": {},
   "outputs": [],
   "source": [
    "data.to_excel('./data.xlsx')"
   ]
  },
  {
   "cell_type": "code",
   "execution_count": 15,
   "id": "c23191f3",
   "metadata": {},
   "outputs": [
    {
     "data": {
      "text/plain": [
       "False    70675\n",
       "True        15\n",
       "dtype: int64"
      ]
     },
     "execution_count": 15,
     "metadata": {},
     "output_type": "execute_result"
    }
   ],
   "source": [
    "data.duplicated().value_counts()"
   ]
  },
  {
   "cell_type": "code",
   "execution_count": 14,
   "id": "9af8637e",
   "metadata": {},
   "outputs": [
    {
     "data": {
      "text/html": [
       "<div>\n",
       "<style scoped>\n",
       "    .dataframe tbody tr th:only-of-type {\n",
       "        vertical-align: middle;\n",
       "    }\n",
       "\n",
       "    .dataframe tbody tr th {\n",
       "        vertical-align: top;\n",
       "    }\n",
       "\n",
       "    .dataframe thead th {\n",
       "        text-align: right;\n",
       "    }\n",
       "</style>\n",
       "<table border=\"1\" class=\"dataframe\">\n",
       "  <thead>\n",
       "    <tr style=\"text-align: right;\">\n",
       "      <th></th>\n",
       "      <th>订单号</th>\n",
       "      <th>设备ID</th>\n",
       "      <th>应付金额</th>\n",
       "      <th>实际金额</th>\n",
       "      <th>商品</th>\n",
       "      <th>支付时间</th>\n",
       "      <th>地点</th>\n",
       "      <th>状态</th>\n",
       "      <th>提现</th>\n",
       "      <th>大类</th>\n",
       "      <th>二级类</th>\n",
       "    </tr>\n",
       "  </thead>\n",
       "  <tbody>\n",
       "    <tr>\n",
       "      <th>0</th>\n",
       "      <td>DD201708167493663618499909784</td>\n",
       "      <td>E43A6E078A07631</td>\n",
       "      <td></td>\n",
       "      <td>4.5</td>\n",
       "      <td>68g好丽友巧克力派2枚</td>\n",
       "      <td>2017/1/1 0:53</td>\n",
       "      <td>D</td>\n",
       "      <td>已出货未退款</td>\n",
       "      <td>已提现</td>\n",
       "      <td>非饮料</td>\n",
       "      <td>饼干糕点</td>\n",
       "    </tr>\n",
       "    <tr>\n",
       "      <th>1</th>\n",
       "      <td>DD20170816749368329675770932</td>\n",
       "      <td>E43A6E078A07631</td>\n",
       "      <td>4.5</td>\n",
       "      <td>4.5</td>\n",
       "      <td>68g好丽友巧克力派2枚</td>\n",
       "      <td>2017/1/2 20:58</td>\n",
       "      <td>D</td>\n",
       "      <td>已出货未退款</td>\n",
       "      <td>已提现</td>\n",
       "      <td>非饮料</td>\n",
       "      <td>饼干糕点</td>\n",
       "    </tr>\n",
       "    <tr>\n",
       "      <th>2</th>\n",
       "      <td>DD20170816749300229112037656709</td>\n",
       "      <td>E43A6E078A06874</td>\n",
       "      <td>4.5</td>\n",
       "      <td>4.5</td>\n",
       "      <td>68g好丽友巧克力派2枚</td>\n",
       "      <td>2017/1/3 1:53</td>\n",
       "      <td>E</td>\n",
       "      <td>已出货未退款</td>\n",
       "      <td>已提现</td>\n",
       "      <td>非饮料</td>\n",
       "      <td>饼干糕点</td>\n",
       "    </tr>\n",
       "    <tr>\n",
       "      <th>3</th>\n",
       "      <td>DD201708167493529849068514902</td>\n",
       "      <td>E43A6E078A04228</td>\n",
       "      <td>4</td>\n",
       "      <td>4</td>\n",
       "      <td>68g好丽友巧克力派2枚</td>\n",
       "      <td>2017/1/8 20:22</td>\n",
       "      <td>C</td>\n",
       "      <td>已出货未退款</td>\n",
       "      <td>已提现</td>\n",
       "      <td>非饮料</td>\n",
       "      <td>饼干糕点</td>\n",
       "    </tr>\n",
       "    <tr>\n",
       "      <th>4</th>\n",
       "      <td>DD201708167493876353091909391</td>\n",
       "      <td>E43A6E078A04228</td>\n",
       "      <td>14</td>\n",
       "      <td>14</td>\n",
       "      <td>68g好丽友巧克力派2枚</td>\n",
       "      <td>2017/1/9 21:38</td>\n",
       "      <td>C</td>\n",
       "      <td>已出货未退款</td>\n",
       "      <td>已提现</td>\n",
       "      <td>非饮料</td>\n",
       "      <td>饼干糕点</td>\n",
       "    </tr>\n",
       "    <tr>\n",
       "      <th>...</th>\n",
       "      <td>...</td>\n",
       "      <td>...</td>\n",
       "      <td>...</td>\n",
       "      <td>...</td>\n",
       "      <td>...</td>\n",
       "      <td>...</td>\n",
       "      <td>...</td>\n",
       "      <td>...</td>\n",
       "      <td>...</td>\n",
       "      <td>...</td>\n",
       "      <td>...</td>\n",
       "    </tr>\n",
       "    <tr>\n",
       "      <th>70685</th>\n",
       "      <td>DD201708167493878114605918673</td>\n",
       "      <td>E43A6E078A04228</td>\n",
       "      <td>11</td>\n",
       "      <td>11</td>\n",
       "      <td>20g洽洽每日坚果</td>\n",
       "      <td>2017/11/19 10:41</td>\n",
       "      <td>C</td>\n",
       "      <td>已出货未退款</td>\n",
       "      <td>已提现</td>\n",
       "      <td>非饮料</td>\n",
       "      <td>坚果炒货</td>\n",
       "    </tr>\n",
       "    <tr>\n",
       "      <th>70686</th>\n",
       "      <td>DD201708167493690426013200961</td>\n",
       "      <td>E43A6E078A04228</td>\n",
       "      <td>4</td>\n",
       "      <td>4</td>\n",
       "      <td>商品36</td>\n",
       "      <td>2017/11/15 15:16</td>\n",
       "      <td>C</td>\n",
       "      <td>已出货未退款</td>\n",
       "      <td>已提现</td>\n",
       "      <td>非饮料</td>\n",
       "      <td>其他</td>\n",
       "    </tr>\n",
       "    <tr>\n",
       "      <th>70687</th>\n",
       "      <td>DD201708167493774605081730209</td>\n",
       "      <td>E43A6E078A04172</td>\n",
       "      <td>11</td>\n",
       "      <td>11</td>\n",
       "      <td>80g粤光宝盒芒果干</td>\n",
       "      <td>2017/12/4 6:47</td>\n",
       "      <td>A</td>\n",
       "      <td>已出货未退款</td>\n",
       "      <td>已提现</td>\n",
       "      <td>非饮料</td>\n",
       "      <td>蜜饯/果干</td>\n",
       "    </tr>\n",
       "    <tr>\n",
       "      <th>70688</th>\n",
       "      <td>DD2017041716541957D1BE9289A69</td>\n",
       "      <td>E43A6E078A04228</td>\n",
       "      <td>0.1</td>\n",
       "      <td>0.1</td>\n",
       "      <td>商品21</td>\n",
       "      <td>2017/12/10 16:18</td>\n",
       "      <td>C</td>\n",
       "      <td>已出货未退款</td>\n",
       "      <td>已提现</td>\n",
       "      <td>非饮料</td>\n",
       "      <td>其他</td>\n",
       "    </tr>\n",
       "    <tr>\n",
       "      <th>70689</th>\n",
       "      <td>DD2017041716040483BC6D38F8F83</td>\n",
       "      <td>E43A6E078A06874</td>\n",
       "      <td>0.1</td>\n",
       "      <td>0.1</td>\n",
       "      <td>商品21</td>\n",
       "      <td>2017/12/10 21:29</td>\n",
       "      <td>E</td>\n",
       "      <td>已出货未退款</td>\n",
       "      <td>已提现</td>\n",
       "      <td>非饮料</td>\n",
       "      <td>其他</td>\n",
       "    </tr>\n",
       "  </tbody>\n",
       "</table>\n",
       "<p>70675 rows × 11 columns</p>\n",
       "</div>"
      ],
      "text/plain": [
       "                                   订单号             设备ID 应付金额 实际金额  \\\n",
       "0        DD201708167493663618499909784  E43A6E078A07631       4.5   \n",
       "1         DD20170816749368329675770932  E43A6E078A07631  4.5  4.5   \n",
       "2      DD20170816749300229112037656709  E43A6E078A06874  4.5  4.5   \n",
       "3        DD201708167493529849068514902  E43A6E078A04228    4    4   \n",
       "4        DD201708167493876353091909391  E43A6E078A04228   14   14   \n",
       "...                                ...              ...  ...  ...   \n",
       "70685    DD201708167493878114605918673  E43A6E078A04228   11   11   \n",
       "70686    DD201708167493690426013200961  E43A6E078A04228    4    4   \n",
       "70687    DD201708167493774605081730209  E43A6E078A04172   11   11   \n",
       "70688    DD2017041716541957D1BE9289A69  E43A6E078A04228  0.1  0.1   \n",
       "70689    DD2017041716040483BC6D38F8F83  E43A6E078A06874  0.1  0.1   \n",
       "\n",
       "                 商品              支付时间 地点      状态   提现   大类    二级类  \n",
       "0      68g好丽友巧克力派2枚     2017/1/1 0:53  D  已出货未退款  已提现  非饮料   饼干糕点  \n",
       "1      68g好丽友巧克力派2枚    2017/1/2 20:58  D  已出货未退款  已提现  非饮料   饼干糕点  \n",
       "2      68g好丽友巧克力派2枚     2017/1/3 1:53  E  已出货未退款  已提现  非饮料   饼干糕点  \n",
       "3      68g好丽友巧克力派2枚    2017/1/8 20:22  C  已出货未退款  已提现  非饮料   饼干糕点  \n",
       "4      68g好丽友巧克力派2枚    2017/1/9 21:38  C  已出货未退款  已提现  非饮料   饼干糕点  \n",
       "...             ...               ... ..     ...  ...  ...    ...  \n",
       "70685     20g洽洽每日坚果  2017/11/19 10:41  C  已出货未退款  已提现  非饮料   坚果炒货  \n",
       "70686          商品36  2017/11/15 15:16  C  已出货未退款  已提现  非饮料     其他  \n",
       "70687    80g粤光宝盒芒果干    2017/12/4 6:47  A  已出货未退款  已提现  非饮料  蜜饯/果干  \n",
       "70688          商品21  2017/12/10 16:18  C  已出货未退款  已提现  非饮料     其他  \n",
       "70689          商品21  2017/12/10 21:29  E  已出货未退款  已提现  非饮料     其他  \n",
       "\n",
       "[70675 rows x 11 columns]"
      ]
     },
     "execution_count": 14,
     "metadata": {},
     "output_type": "execute_result"
    }
   ],
   "source": [
    "data.drop_duplicates()"
   ]
  },
  {
   "cell_type": "code",
   "execution_count": 5,
   "id": "21feb0f6",
   "metadata": {},
   "outputs": [],
   "source": [
    "outputfile=('./dataoutput.xlsx')\n",
    "data=pd.merge(data1,data2,on='商品')\n",
    "data.describe().to_excel(outputfile, index=True)"
   ]
  },
  {
   "cell_type": "code",
   "execution_count": 6,
   "id": "a17688c4",
   "metadata": {},
   "outputs": [
    {
     "name": "stdout",
     "output_type": "stream",
     "text": [
      "      应付金额\n",
      "0      NaN\n",
      "1      NaN\n",
      "2      NaN\n",
      "3      NaN\n",
      "4      NaN\n",
      "...    ...\n",
      "70685  NaN\n",
      "70686  NaN\n",
      "70687  NaN\n",
      "70688  NaN\n",
      "70689  NaN\n",
      "\n",
      "[70690 rows x 1 columns]\n"
     ]
    }
   ],
   "source": [
    "num = pd.DataFrame(data,columns = [ '应付金额'])\n",
    "left=num.mean()-3*num.std()\n",
    "right=num.mean()+3*num.std()\n",
    "new_num=num[(left>num)&(num>right)]\n",
    "print(new_num)"
   ]
  },
  {
   "cell_type": "code",
   "execution_count": 18,
   "id": "e5691807",
   "metadata": {},
   "outputs": [
    {
     "name": "stdout",
     "output_type": "stream",
     "text": [
      "         订单号   设备ID   应付金额   实际金额     商品   支付时间     地点     状态     提现     大类  \\\n",
      "0      False  False  False  False  False  False  False  False  False  False   \n",
      "1      False  False  False  False  False  False  False  False  False  False   \n",
      "2      False  False  False  False  False  False  False  False  False  False   \n",
      "3      False  False  False  False  False  False  False  False  False  False   \n",
      "4      False  False  False  False  False  False  False  False  False  False   \n",
      "...      ...    ...    ...    ...    ...    ...    ...    ...    ...    ...   \n",
      "70685  False  False  False  False  False  False  False  False  False  False   \n",
      "70686  False  False  False  False  False  False  False  False  False  False   \n",
      "70687  False  False  False  False  False  False  False  False  False  False   \n",
      "70688  False  False  False  False  False  False  False  False  False  False   \n",
      "70689  False  False  False  False  False  False  False  False  False  False   \n",
      "\n",
      "         二级类  \n",
      "0      False  \n",
      "1      False  \n",
      "2      False  \n",
      "3      False  \n",
      "4      False  \n",
      "...      ...  \n",
      "70685  False  \n",
      "70686  False  \n",
      "70687  False  \n",
      "70688  False  \n",
      "70689  False  \n",
      "\n",
      "[70690 rows x 11 columns]\n"
     ]
    }
   ],
   "source": [
    "print(data.isnull())"
   ]
  },
  {
   "cell_type": "code",
   "execution_count": 19,
   "id": "59a2b162",
   "metadata": {},
   "outputs": [
    {
     "name": "stdout",
     "output_type": "stream",
     "text": [
      "订单号     False\n",
      "设备ID    False\n",
      "应付金额     True\n",
      "实际金额     True\n",
      "商品      False\n",
      "支付时间    False\n",
      "地点      False\n",
      "状态      False\n",
      "提现      False\n",
      "大类      False\n",
      "二级类     False\n",
      "dtype: bool\n"
     ]
    }
   ],
   "source": [
    "print(data.isnull().any())"
   ]
  },
  {
   "cell_type": "code",
   "execution_count": 20,
   "id": "1d24f7a5",
   "metadata": {},
   "outputs": [
    {
     "name": "stdout",
     "output_type": "stream",
     "text": [
      "                                  订单号             设备ID 应付金额 实际金额  \\\n",
      "15965    DD20170816749328626957419562  E43A6E078A06874  NaN  NaN   \n",
      "15965    DD20170816749328626957419562  E43A6E078A06874  NaN  NaN   \n",
      "16208   DD201708167493462771484701176  E43A6E078A04228  NaN  NaN   \n",
      "16208   DD201708167493462771484701176  E43A6E078A04228  NaN  NaN   \n",
      "19064   DD201708167493655413087619908  E43A6E078A04134  NaN  NaN   \n",
      "19064   DD201708167493655413087619908  E43A6E078A04134  NaN  NaN   \n",
      "69132  DD2017081674930182758918544179  E43A6E078A06874  NaN  NaN   \n",
      "69132  DD2017081674930182758918544179  E43A6E078A06874  NaN  NaN   \n",
      "69136   DD201708167493745038969181186  E43A6E078A04134  NaN  NaN   \n",
      "69136   DD201708167493745038969181186  E43A6E078A04134  NaN  NaN   \n",
      "69158   DD201708167493116318578183853  E43A6E078A04228  NaN  NaN   \n",
      "69158   DD201708167493116318578183853  E43A6E078A04228  NaN  NaN   \n",
      "\n",
      "                        商品              支付时间 地点      状态   提现   大类   二级类  \n",
      "15965                   红牛   2017/6/13 23:39  E  已出货未退款  已提现   饮料  功能饮料  \n",
      "15965                   红牛   2017/6/13 23:39  E  已出货未退款  已提现   饮料  功能饮料  \n",
      "16208                   红牛   2017/9/17 12:09  C  已出货未退款  已提现   饮料  功能饮料  \n",
      "16208                   红牛   2017/9/17 12:09  C  已出货未退款  已提现   饮料  功能饮料  \n",
      "19064        268ml雀巢咖啡丝滑拿铁   2017/10/29 8:50  B  已出货未退款  已提现   饮料    咖啡  \n",
      "19064        268ml雀巢咖啡丝滑拿铁   2017/10/29 8:50  B  已出货未退款  已提现   饮料    咖啡  \n",
      "69132  180g统一满汉全席台式半筋半肉牛肉面    2017/8/6 18:06  E  已出货未退款  已提现  非饮料  方便速食  \n",
      "69132  180g统一满汉全席台式半筋半肉牛肉面    2017/8/6 18:06  E  已出货未退款  已提现  非饮料  方便速食  \n",
      "69136  180g统一满汉全席台式半筋半肉牛肉面   2017/9/23 15:17  B  已出货未退款  已提现  非饮料  方便速食  \n",
      "69136  180g统一满汉全席台式半筋半肉牛肉面   2017/9/23 15:17  B  已出货未退款  已提现  非饮料  方便速食  \n",
      "69158  180g统一满汉全席台式半筋半肉牛肉面  2017/11/20 10:18  C  已出货未退款  已提现  非饮料  方便速食  \n",
      "69158  180g统一满汉全席台式半筋半肉牛肉面  2017/11/20 10:18  C  已出货未退款  已提现  非饮料  方便速食  \n"
     ]
    }
   ],
   "source": [
    "print(data[data.isnull().values==True])"
   ]
  },
  {
   "cell_type": "code",
   "execution_count": 21,
   "id": "3ee60ec8",
   "metadata": {},
   "outputs": [
    {
     "name": "stdout",
     "output_type": "stream",
     "text": [
      "订单号     False\n",
      "设备ID    False\n",
      "应付金额    False\n",
      "实际金额    False\n",
      "商品      False\n",
      "支付时间    False\n",
      "地点      False\n",
      "状态      False\n",
      "提现      False\n",
      "大类      False\n",
      "二级类     False\n",
      "dtype: bool\n"
     ]
    }
   ],
   "source": [
    "data.dropna(how='any', axis=0,inplace=True)\n",
    "print(data.isnull().any())"
   ]
  },
  {
   "cell_type": "code",
   "execution_count": 26,
   "id": "dbac2d1b",
   "metadata": {},
   "outputs": [],
   "source": [
    "data.to_excel('./data3.xlsx')"
   ]
  }
 ],
 "metadata": {
  "kernelspec": {
   "display_name": "Python 3 (ipykernel)",
   "language": "python",
   "name": "python3"
  },
  "language_info": {
   "codemirror_mode": {
    "name": "ipython",
    "version": 3
   },
   "file_extension": ".py",
   "mimetype": "text/x-python",
   "name": "python",
   "nbconvert_exporter": "python",
   "pygments_lexer": "ipython3",
   "version": "3.8.5"
  }
 },
 "nbformat": 4,
 "nbformat_minor": 5
}
