{
 "cells": [
  {
   "cell_type": "code",
   "execution_count": 10,
   "id": "fb6bc8af",
   "metadata": {},
   "outputs": [
    {
     "name": "stdout",
     "output_type": "stream",
     "text": [
      "Unexpected exception formatting exception. Falling back to standard exception\n"
     ]
    },
    {
     "name": "stderr",
     "output_type": "stream",
     "text": [
      "Traceback (most recent call last):\n",
      "  File \"c:\\plugins\\python\\python3.8.5\\lib\\site-packages\\IPython\\core\\interactiveshell.py\", line 3460, in run_code\n",
      "    exec(code_obj, self.user_global_ns, self.user_ns)\n",
      "  File \"C:\\Users\\29793\\AppData\\Local\\Temp\\ipykernel_12736\\1929562111.py\", line 9, in <module>\n",
      "    sns.stripplot(x=sale['每月平均工作小时数（小时）'])\n",
      "  File \"c:\\plugins\\python\\python3.8.5\\lib\\site-packages\\seaborn\\categorical.py\", line 2513, in stripplot\n",
      "    ax = plt.gca()\n",
      "  File \"c:\\plugins\\python\\python3.8.5\\lib\\site-packages\\matplotlib\\pyplot.py\", line 2227, in gca\n",
      "    .. note::\n",
      "  File \"c:\\plugins\\python\\python3.8.5\\lib\\site-packages\\matplotlib\\pyplot.py\", line 832, in gcf\n",
      "    f\"More than {max_open_warning} figures have been opened. \"\n",
      "  File \"c:\\plugins\\python\\python3.8.5\\lib\\site-packages\\matplotlib\\_api\\deprecation.py\", line 454, in wrapper\n",
      "    return func(*args, **kwargs)\n",
      "  File \"c:\\plugins\\python\\python3.8.5\\lib\\site-packages\\matplotlib\\pyplot.py\", line 773, in figure\n",
      "    If not given, fall back to using the parameters *tight_layout* and\n",
      "  File \"c:\\plugins\\python\\python3.8.5\\lib\\site-packages\\matplotlib\\pyplot.py\", line 348, in new_figure_manager\n",
      "    # Need to keep a global reference to the backend for compatibility reasons.\n",
      "  File \"c:\\plugins\\python\\python3.8.5\\lib\\site-packages\\matplotlib\\pyplot.py\", line 338, in _warn_if_gui_out_of_main_thread\n",
      "  File \"c:\\plugins\\python\\python3.8.5\\lib\\site-packages\\matplotlib\\pyplot.py\", line 207, in _get_backend_mod\n",
      "    # we need to resolve the auto sentinel)\n",
      "  File \"c:\\plugins\\python\\python3.8.5\\lib\\site-packages\\matplotlib\\pyplot.py\", line 265, in switch_backend\n",
      "    switch_backend(\"agg\")\n",
      "  File \"c:\\plugins\\python\\python3.8.5\\lib\\importlib\\__init__.py\", line 127, in import_module\n",
      "    return _bootstrap._gcd_import(name[level:], package, level)\n",
      "  File \"<frozen importlib._bootstrap>\", line 1014, in _gcd_import\n",
      "  File \"<frozen importlib._bootstrap>\", line 991, in _find_and_load\n",
      "  File \"<frozen importlib._bootstrap>\", line 961, in _find_and_load_unlocked\n",
      "  File \"<frozen importlib._bootstrap>\", line 219, in _call_with_frames_removed\n",
      "  File \"<frozen importlib._bootstrap>\", line 1014, in _gcd_import\n",
      "  File \"<frozen importlib._bootstrap>\", line 991, in _find_and_load\n",
      "  File \"<frozen importlib._bootstrap>\", line 975, in _find_and_load_unlocked\n",
      "  File \"<frozen importlib._bootstrap>\", line 671, in _load_unlocked\n",
      "  File \"<frozen importlib._bootstrap_external>\", line 783, in exec_module\n",
      "  File \"<frozen importlib._bootstrap>\", line 219, in _call_with_frames_removed\n",
      "  File \"c:\\plugins\\python\\python3.8.5\\lib\\site-packages\\matplotlib_inline\\__init__.py\", line 1, in <module>\n",
      "    from . import backend_inline, config  # noqa\n",
      "  File \"c:\\plugins\\python\\python3.8.5\\lib\\site-packages\\matplotlib_inline\\backend_inline.py\", line 8, in <module>\n",
      "    from matplotlib.backends import backend_agg\n",
      "  File \"c:\\plugins\\python\\python3.8.5\\lib\\site-packages\\matplotlib\\backends\\backend_agg.py\", line 40, in <module>\n",
      "    from matplotlib.backends._backend_agg import RendererAgg as _RendererAgg\n",
      "ImportError: DLL load failed while importing _backend_agg: 找不到指定的模块。\n",
      "\n",
      "During handling of the above exception, another exception occurred:\n",
      "\n",
      "Traceback (most recent call last):\n",
      "  File \"c:\\plugins\\python\\python3.8.5\\lib\\site-packages\\IPython\\core\\interactiveshell.py\", line 2057, in showtraceback\n",
      "    stb = self.InteractiveTB.structured_traceback(\n",
      "  File \"c:\\plugins\\python\\python3.8.5\\lib\\site-packages\\IPython\\core\\ultratb.py\", line 1288, in structured_traceback\n",
      "    return FormattedTB.structured_traceback(\n",
      "  File \"c:\\plugins\\python\\python3.8.5\\lib\\site-packages\\IPython\\core\\ultratb.py\", line 1177, in structured_traceback\n",
      "    return VerboseTB.structured_traceback(\n",
      "  File \"c:\\plugins\\python\\python3.8.5\\lib\\site-packages\\IPython\\core\\ultratb.py\", line 1030, in structured_traceback\n",
      "    formatted_exception = self.format_exception_as_a_whole(etype, evalue, etb, number_of_lines_of_context,\n",
      "  File \"c:\\plugins\\python\\python3.8.5\\lib\\site-packages\\IPython\\core\\ultratb.py\", line 960, in format_exception_as_a_whole\n",
      "    frames.append(self.format_record(record))\n",
      "  File \"c:\\plugins\\python\\python3.8.5\\lib\\site-packages\\IPython\\core\\ultratb.py\", line 870, in format_record\n",
      "    frame_info.lines, Colors, self.has_colors, lvals\n",
      "  File \"c:\\plugins\\python\\python3.8.5\\lib\\site-packages\\IPython\\core\\ultratb.py\", line 704, in lines\n",
      "    return self._sd.lines\n",
      "  File \"c:\\plugins\\python\\python3.8.5\\lib\\site-packages\\stack_data\\utils.py\", line 144, in cached_property_wrapper\n",
      "    value = obj.__dict__[self.func.__name__] = self.func(obj)\n",
      "  File \"c:\\plugins\\python\\python3.8.5\\lib\\site-packages\\stack_data\\core.py\", line 734, in lines\n",
      "    pieces = self.included_pieces\n",
      "  File \"c:\\plugins\\python\\python3.8.5\\lib\\site-packages\\stack_data\\utils.py\", line 144, in cached_property_wrapper\n",
      "    value = obj.__dict__[self.func.__name__] = self.func(obj)\n",
      "  File \"c:\\plugins\\python\\python3.8.5\\lib\\site-packages\\stack_data\\core.py\", line 681, in included_pieces\n",
      "    pos = scope_pieces.index(self.executing_piece)\n",
      "  File \"c:\\plugins\\python\\python3.8.5\\lib\\site-packages\\stack_data\\utils.py\", line 144, in cached_property_wrapper\n",
      "    value = obj.__dict__[self.func.__name__] = self.func(obj)\n",
      "  File \"c:\\plugins\\python\\python3.8.5\\lib\\site-packages\\stack_data\\core.py\", line 660, in executing_piece\n",
      "    return only(\n",
      "  File \"c:\\plugins\\python\\python3.8.5\\lib\\site-packages\\executing\\executing.py\", line 190, in only\n",
      "    raise NotOneValueFound('Expected one value, found 0')\n",
      "executing.executing.NotOneValueFound: Expected one value, found 0\n"
     ]
    }
   ],
   "source": [
    "from matplotlib import pyplot as plt\n",
    "import pandas as pd\n",
    "import seaborn as sns\n",
    "hr = pd.read_csv('./hr.csv', encoding='gbk')\n",
    "sns.set_style('whitegrid', {'font.sans-serif':['simhei', 'Arial']})\n",
    "plt.rcParams['font.sans-serif'] = ['SimHei']\n",
    "plt.rcParams['axes.unicode_minus']=False\n",
    "sale = hr.iloc[(hr['部门'].values=='销售部') & (hr['离职'].values==1), :]\n",
    "sns.stripplot(x=sale['每月平均工作小时数（小时）'])\n",
    "plt.title('简单水平分布散点图')\n",
    "plt.show()"
   ]
  },
  {
   "cell_type": "code",
   "execution_count": null,
   "id": "43e0310a",
   "metadata": {},
   "outputs": [],
   "source": [
    "sns.swarmplot(x='部门', y='每月平均工作小时数（小时）', data=hr2)\n",
    "plt.xticks(rotation=70)\n",
    "plt.title('不同部门的平均每月工作时长')\n",
    "plt.show()"
   ]
  }
 ],
 "metadata": {
  "kernelspec": {
   "display_name": "Python 3 (ipykernel)",
   "language": "python",
   "name": "python3"
  },
  "language_info": {
   "codemirror_mode": {
    "name": "ipython",
    "version": 3
   },
   "file_extension": ".py",
   "mimetype": "text/x-python",
   "name": "python",
   "nbconvert_exporter": "python",
   "pygments_lexer": "ipython3",
   "version": "3.8.5"
  }
 },
 "nbformat": 4,
 "nbformat_minor": 5
}
