{
 "cells": [
  {
   "cell_type": "code",
   "execution_count": 1,
   "id": "29ed25cf",
   "metadata": {},
   "outputs": [
    {
     "name": "stdout",
     "output_type": "stream",
     "text": [
      "   姓名  成绩 性别 成绩等级\n",
      "0  张三  90  男   优秀\n",
      "1  李四  22  男    差\n",
      "2  王五  60  男   及格\n",
      "3  赵六  88  男   优秀\n"
     ]
    }
   ],
   "source": [
    "import pandas as pd\n",
    "import numpy as np\n",
    "data=[['张三',90,'男','优秀'],['李四',22,'男','差'],['王五',60,'男','及格'],['赵六',88,'男','优秀']]\n",
    "df=pd.DataFrame(data,columns=['姓名','成绩','性别','成绩等级'])\n",
    "print(df)"
   ]
  },
  {
   "cell_type": "code",
   "execution_count": 3,
   "id": "ddbf08da",
   "metadata": {},
   "outputs": [
    {
     "ename": "SyntaxError",
     "evalue": "invalid syntax (3389014999.py, line 1)",
     "output_type": "error",
     "traceback": [
      "\u001b[1;36m  Cell \u001b[1;32mIn[3], line 1\u001b[1;36m\u001b[0m\n\u001b[1;33m    data=['姓名':['张三','李四','王五','赵六'],'成绩':[90,22,60,88],'性别':['男','男','男','男'],'成绩等级':['优秀','差','及格','优秀']]\u001b[0m\n\u001b[1;37m              ^\u001b[0m\n\u001b[1;31mSyntaxError\u001b[0m\u001b[1;31m:\u001b[0m invalid syntax\n"
     ]
    }
   ],
   "source": [
    "data=['姓名':['张三','李四','王五','赵六'],'成绩':[90,22,60,88],'性别':['男','男','男','男'],'成绩等级':['优秀','差','及格','优秀']]\n",
    "df.pd.DataFrame(data)\n",
    "print(df)\n"
   ]
  },
  {
   "cell_type": "code",
   "execution_count": null,
   "id": "4ea1ac17",
   "metadata": {},
   "outputs": [],
   "source": [
    "df."
   ]
  }
 ],
 "metadata": {
  "kernelspec": {
   "display_name": "Python 3 (ipykernel)",
   "language": "python",
   "name": "python3"
  },
  "language_info": {
   "codemirror_mode": {
    "name": "ipython",
    "version": 3
   },
   "file_extension": ".py",
   "mimetype": "text/x-python",
   "name": "python",
   "nbconvert_exporter": "python",
   "pygments_lexer": "ipython3",
   "version": "3.8.5"
  }
 },
 "nbformat": 4,
 "nbformat_minor": 5
}
